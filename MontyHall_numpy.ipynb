{
 "cells": [
  {
   "cell_type": "code",
   "execution_count": 1,
   "metadata": {},
   "outputs": [],
   "source": [
    "%matplotlib inline \n",
    "from random import randint \n",
    "\n",
    "from enum import Enum # stocker les statégies \n",
    "\n",
    "import matplotlib.pyplot as plt\n",
    "import numpy as np"
   ]
  },
  {
   "cell_type": "code",
   "execution_count": 40,
   "metadata": {},
   "outputs": [],
   "source": [
    "# 1 ere version \n",
    "class Stategie(Enum): \n",
    "    CHANGER = 1 \n",
    "    GARDER = 0 \n",
    "\n",
    "    \n",
    "def play_game(stategie,nb_tours): \n",
    "    \"\"\"\n",
    "    Stategie du joueur \n",
    "    \"\"\"\n",
    "    portes = np.array([0,1,2])\n",
    "    res = np.zeros(nb_tours)\n",
    "    for k in range(nb_tours): \n",
    "        portes = np.array([0,1,2])\n",
    "        bonne_porte = np.random.randint(3)\n",
    "        premier_choix = np.random.randint(3)\n",
    "        portes = np.array(portes[portes!=premier_choix])\n",
    "        \n",
    "        if premier_choix == bonne_porte : \n",
    "            portes = portes[np.random.randint(2)]\n",
    "        else : \n",
    "            portes = [bonne_porte]\n",
    "            \n",
    "        deuxieme_choix = 0\n",
    "        portes = np.array([portes])\n",
    "        \n",
    "        if (stategie == Stategie.GARDER) :\n",
    "            deuxieme_choix = premier_choix\n",
    "        elif  (stategie == Stategie.CHANGER) :\n",
    "            deuxieme_choix = portes[0]\n",
    "        else:\n",
    "            raise ValueError(\"Stratégie non reconnue!\")\n",
    "        res[k] = deuxieme_choix == bonne_porte \n",
    "        \n",
    "    return res\n",
    "\n",
    "\n",
    "#play_game(CHANGER)"
   ]
  },
  {
   "cell_type": "code",
   "execution_count": 41,
   "metadata": {},
   "outputs": [
    {
     "data": {
      "text/plain": [
       "array([1., 1., 0., 0., 0., 1., 1., 1., 1., 1., 1., 0., 1., 1., 0., 1., 0.,\n",
       "       1., 0., 1., 1., 1., 1., 1., 1., 1., 1., 1., 0., 0., 1., 0., 0., 1.,\n",
       "       1., 1., 1., 1., 0., 1., 0., 1., 1., 0., 0., 1., 1., 0., 1., 0., 1.,\n",
       "       1., 1., 0., 0., 1., 1., 1., 1., 1., 0., 1., 1., 0., 1., 1., 1., 1.,\n",
       "       1., 1., 1., 1., 1., 1., 0., 1., 1., 1., 1., 1., 1., 0., 1., 1., 1.,\n",
       "       1., 1., 1., 1., 1., 1., 1., 1., 0., 1., 0., 1., 1., 1., 1.])"
      ]
     },
     "execution_count": 41,
     "metadata": {},
     "output_type": "execute_result"
    }
   ],
   "source": [
    "play_game(Stategie.CHANGER,100)"
   ]
  },
  {
   "cell_type": "code",
   "execution_count": 43,
   "metadata": {},
   "outputs": [
    {
     "data": {
      "text/plain": [
       "648.0"
      ]
     },
     "execution_count": 43,
     "metadata": {},
     "output_type": "execute_result"
    }
   ],
   "source": [
    "sum(play_game(Stategie.CHANGER,1000))"
   ]
  },
  {
   "cell_type": "code",
   "execution_count": 44,
   "metadata": {},
   "outputs": [
    {
     "data": {
      "text/plain": [
       "356.0"
      ]
     },
     "execution_count": 44,
     "metadata": {},
     "output_type": "execute_result"
    }
   ],
   "source": [
    "sum(play_game(Stategie.GARDER,1000))"
   ]
  },
  {
   "cell_type": "code",
   "execution_count": 48,
   "metadata": {},
   "outputs": [],
   "source": [
    "class Stategie(Enum): \n",
    "    CHANGER = 1 \n",
    "    GARDER = 0 \n",
    "\n",
    "    \n",
    "def play_game(stategie,nb_tours): \n",
    "    \"\"\"\n",
    "    Stategie du joueur \n",
    "    \"\"\"\n",
    "    portes = np.array([0,1,2])\n",
    "    res = np.zeros(nb_tours)\n",
    "    portes = np.array([0,1,2],)\n",
    "    bonne_porte = np.random.randint(0,3,nb_tours)\n",
    "    premier_choix = np.random.randint(0,3,nb_tours)\n",
    "    \n",
    "    change = np.array(bonne_porte !=premier_choix, dtype=int)\n",
    "    keep = np.array(bonne_porte ==premier_choix, dtype=int)\n",
    "    \n",
    "    if (stategie == Stategie.GARDER) :\n",
    "            return keep \n",
    "    elif  (stategie == Stategie.CHANGER) :\n",
    "            return change \n",
    "    else:\n",
    "            raise ValueError(\"Stratégie non reconnue!\")\n"
   ]
  },
  {
   "cell_type": "code",
   "execution_count": 49,
   "metadata": {},
   "outputs": [
    {
     "data": {
      "text/plain": [
       "325"
      ]
     },
     "execution_count": 49,
     "metadata": {},
     "output_type": "execute_result"
    }
   ],
   "source": [
    "sum(play_game(Stategie.GARDER,1000))"
   ]
  },
  {
   "cell_type": "code",
   "execution_count": 50,
   "metadata": {},
   "outputs": [
    {
     "data": {
      "text/plain": [
       "682"
      ]
     },
     "execution_count": 50,
     "metadata": {},
     "output_type": "execute_result"
    }
   ],
   "source": [
    "sum(play_game(Stategie.CHANGER,1000))"
   ]
  },
  {
   "cell_type": "code",
   "execution_count": null,
   "metadata": {},
   "outputs": [],
   "source": []
  }
 ],
 "metadata": {
  "kernelspec": {
   "display_name": "Python 3",
   "language": "python",
   "name": "python3"
  },
  "language_info": {
   "codemirror_mode": {
    "name": "ipython",
    "version": 3
   },
   "file_extension": ".py",
   "mimetype": "text/x-python",
   "name": "python",
   "nbconvert_exporter": "python",
   "pygments_lexer": "ipython3",
   "version": "3.7.6"
  }
 },
 "nbformat": 4,
 "nbformat_minor": 4
}
