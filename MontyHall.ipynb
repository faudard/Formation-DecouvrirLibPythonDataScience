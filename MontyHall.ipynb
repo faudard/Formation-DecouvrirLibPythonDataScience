{
 "cells": [
  {
   "cell_type": "code",
   "execution_count": 3,
   "metadata": {},
   "outputs": [],
   "source": [
    "%matplotlib inline \n",
    "from random import randint \n",
    "\n",
    "from enum import Enum # stocker les statégies \n",
    "\n",
    "import matplotlib.pyplot as plt"
   ]
  },
  {
   "cell_type": "code",
   "execution_count": 58,
   "metadata": {},
   "outputs": [],
   "source": [
    "class Stategie(Enum): \n",
    "    CHANGER = 1 \n",
    "    GARDER = 0 \n",
    "\n",
    "    \n",
    "def play_game(stategie): \n",
    "    \"\"\"\n",
    "    Stategie du joueur \n",
    "    \"\"\"\n",
    "    portes = [0,1,2]\n",
    "    bonne_porte = randint(0,2)\n",
    "    premier_choix = randint(0,2)\n",
    "    \n",
    "    portes.remove(premier_choix) \n",
    "    \n",
    "    if premier_choix == bonne_porte : \n",
    "        portes.remove(portes[randint(0,1)]) \n",
    "    else : \n",
    "        portes = [bonne_porte]\n",
    "    \n",
    "    deuxieme_choix = 0\n",
    "    \n",
    "    if (stategie == Stategie.GARDER) :\n",
    "        deuxieme_choix = premier_choix\n",
    "    elif  (stategie == Stategie.CHANGER) :\n",
    "        deuxieme_choix = portes[0]\n",
    "    else:\n",
    "        raise ValueError(\"Stratégie non reconnue!\")\n",
    "        \n",
    "    return deuxieme_choix == bonne_porte"
   ]
  },
  {
   "cell_type": "code",
   "execution_count": 59,
   "metadata": {},
   "outputs": [
    {
     "data": {
      "text/plain": [
       "False"
      ]
     },
     "execution_count": 59,
     "metadata": {},
     "output_type": "execute_result"
    }
   ],
   "source": [
    "# Test une partie \n",
    "play_game(Stategie.CHANGER)"
   ]
  },
  {
   "cell_type": "code",
   "execution_count": 60,
   "metadata": {},
   "outputs": [],
   "source": [
    "def play(stategie, nb_tours): \n",
    "   return [1 if play_game(stategie) else 0 for i in range(nb_tours)]"
   ]
  },
  {
   "cell_type": "code",
   "execution_count": 47,
   "metadata": {},
   "outputs": [
    {
     "data": {
      "text/plain": [
       "314"
      ]
     },
     "execution_count": 47,
     "metadata": {},
     "output_type": "execute_result"
    }
   ],
   "source": [
    "sum(play(Stategie.GARDER,1000))"
   ]
  },
  {
   "cell_type": "code",
   "execution_count": 46,
   "metadata": {},
   "outputs": [
    {
     "data": {
      "text/plain": [
       "647"
      ]
     },
     "execution_count": 46,
     "metadata": {},
     "output_type": "execute_result"
    }
   ],
   "source": [
    "sum(play(Stategie.CHANGER,1000))"
   ]
  },
  {
   "cell_type": "code",
   "execution_count": 55,
   "metadata": {},
   "outputs": [
    {
     "data": {
      "text/plain": [
       "[<matplotlib.lines.Line2D at 0x7f7db1fa4610>]"
      ]
     },
     "execution_count": 55,
     "metadata": {},
     "output_type": "execute_result"
    },
    {
     "data": {
      "image/png": "[encoded data removed]",
      "text/plain": [
       "<Figure size 432x288 with 1 Axes>"
      ]
     },
     "metadata": {
      "needs_background": "light"
     },
     "output_type": "display_data"
    }
   ],
   "source": [
    "plt.plot(play(Stategie.CHANGER,20))"
   ]
  },
  {
   "cell_type": "code",
   "execution_count": 57,
   "metadata": {},
   "outputs": [
    {
     "data": {
      "text/plain": [
       "<BarContainer object of 2 artists>"
      ]
     },
     "execution_count": 57,
     "metadata": {},
     "output_type": "execute_result"
    },
    {
     "data": {
      "image/png": "[encoded data removed]",
      "text/plain": [
       "<Figure size 432x288 with 1 Axes>"
      ]
     },
     "metadata": {
      "needs_background": "light"
     },
     "output_type": "display_data"
    }
   ],
   "source": [
    "plt.bar([1,2], [sum(play(Stategie.CHANGER,1000)), sum(play(Stategie.GARDER,1000))])"
   ]
  },
  {
   "cell_type": "code",
   "execution_count": 64,
   "metadata": {},
   "outputs": [],
   "source": [
    "class Stategie(Enum): \n",
    "    CHANGER = 1 \n",
    "    GARDER = 0 \n",
    "    HASARD = 2 \n",
    "\n",
    "    \n",
    "def play_game(stategie): \n",
    "    \"\"\"\n",
    "    Stategie du joueur \n",
    "    \"\"\"\n",
    "    portes = [0,1,2]\n",
    "    bonne_porte = randint(0,2)\n",
    "    premier_choix = randint(0,2)\n",
    "    \n",
    "    portes.remove(premier_choix) \n",
    "    \n",
    "    if premier_choix == bonne_porte : \n",
    "        portes.remove(portes[randint(0,1)]) \n",
    "    else : \n",
    "        portes = [bonne_porte]\n",
    "    \n",
    "    deuxieme_choix = 0\n",
    "    \n",
    "    if (stategie == Stategie.GARDER) :\n",
    "        deuxieme_choix = premier_choix\n",
    "    elif  (stategie == Stategie.CHANGER) :\n",
    "        deuxieme_choix = portes[0]\n",
    "    elif (stategie == Stategie.HASARD) : \n",
    "        new_rand = randint(0,1)\n",
    "        if new_rand : \n",
    "            deuxieme_choix = portes[0]\n",
    "        else : \n",
    "            deuxieme_choix = premier_choix               \n",
    "    else:\n",
    "        raise ValueError(\"Stratégie non reconnue!\")\n",
    "        \n",
    "    return deuxieme_choix == bonne_porte"
   ]
  },
  {
   "cell_type": "code",
   "execution_count": 68,
   "metadata": {},
   "outputs": [
    {
     "data": {
      "text/plain": [
       "501"
      ]
     },
     "execution_count": 68,
     "metadata": {},
     "output_type": "execute_result"
    }
   ],
   "source": [
    "sum(play(Stategie.HASARD,1000))"
   ]
  },
  {
   "cell_type": "code",
   "execution_count": 71,
   "metadata": {},
   "outputs": [
    {
     "data": {
      "text/plain": [
       "<BarContainer object of 3 artists>"
      ]
     },
     "execution_count": 71,
     "metadata": {},
     "output_type": "execute_result"
    },
    {
     "data": {
      "image/png": "[encoded data removed]",
      "text/plain": [
       "<Figure size 432x288 with 1 Axes>"
      ]
     },
     "metadata": {
      "needs_background": "light"
     },
     "output_type": "display_data"
    }
   ],
   "source": [
    "plt.bar([1,2,3], [sum(play(Stategie.CHANGER,1000)), \n",
    "                sum(play(Stategie.GARDER,1000)), \n",
    "                sum(play(Stategie.HASARD,1000))])"
   ]
  },
  {
   "cell_type": "code",
   "execution_count": null,
   "metadata": {},
   "outputs": [],
   "source": []
  }
 ],
 "metadata": {
  "kernelspec": {
   "display_name": "Python 3",
   "language": "python",
   "name": "python3"
  },
  "language_info": {
   "codemirror_mode": {
    "name": "ipython",
    "version": 3
   },
   "file_extension": ".py",
   "mimetype": "text/x-python",
   "name": "python",
   "nbconvert_exporter": "python",
   "pygments_lexer": "ipython3",
   "version": "3.7.6"
  }
 },
 "nbformat": 4,
 "nbformat_minor": 4
}
